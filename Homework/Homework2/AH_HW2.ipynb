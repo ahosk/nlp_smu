{
 "cells": [
  {
   "cell_type": "markdown",
   "metadata": {},
   "source": [
    "## Homework 1\n",
    "#### DS7337: Natural Language Processing, Fall 2022\n",
    "By: Allen Hoskins"
   ]
  },
  {
   "cell_type": "markdown",
   "metadata": {},
   "source": [
    "***\n",
    "## 1. Install Python and NLTK"
   ]
  },
  {
   "cell_type": "code",
   "execution_count": 9,
   "metadata": {},
   "outputs": [
    {
     "name": "stdout",
     "output_type": "stream",
     "text": [
      "Python 3.9.13\n"
     ]
    }
   ],
   "source": [
    "!python -V"
   ]
  },
  {
   "cell_type": "code",
   "execution_count": 2,
   "metadata": {},
   "outputs": [],
   "source": [
    "import nltk"
   ]
  },
  {
   "cell_type": "markdown",
   "metadata": {},
   "source": [
    "***\n",
    "## 2. Follow Instructions in Chapter 1 of Bird-Klein for implementing a \"lexical diversity\" scoring Routine\n",
    "\n",
    "The `lexical_diversity` function divides the unique vocabulary words by the entire length of the text.\n"
   ]
  },
  {
   "cell_type": "code",
   "execution_count": null,
   "metadata": {},
   "outputs": [],
   "source": [
    "#create lexical diversity function \n",
    "def lexical_diversity(text):\n",
    "    return len(set(text)) / len(text)"
   ]
  },
  {
   "cell_type": "markdown",
   "metadata": {},
   "source": [
    "***\n",
    "## 3. From <a href=\"https://www.gutenberg.org/ebooks/bookshelf/215\">LINK</a> select texts of differnet grade levels. Report the lexical diversity score of each. Explain whether the result was surprising.\n",
    "\n",
    "From the link above, I chose the Second, Fourth, and Sixth grade texts to compute the lexical diversity. After performing the calculation, I found it very interesting that the second grade text had a higher lexical diversity score than the fourth and sixth. This could be due to the second grade text having less overall words, but still a smaller distinct set of vocabular and the older aged texts having more words but not as proportionally diverse."
   ]
  },
  {
   "cell_type": "code",
   "execution_count": 10,
   "metadata": {},
   "outputs": [],
   "source": [
    "#load texts\n",
    "secondgrade = open(r'/Users/allen/Desktop/MSDS/NLP/Homeworks/Homework 1/SecondGradeReader.txt').read()\n",
    "fourthgrade = open(r'/Users/allen/Desktop/MSDS/NLP/Homeworks/Homework 1/FourthGradeReader.txt').read()\n",
    "sixthgrade = open(r'/Users/allen/Desktop/MSDS/NLP/Homeworks/Homework 1/SixthGradeReader.txt').read()"
   ]
  },
  {
   "cell_type": "code",
   "execution_count": 11,
   "metadata": {},
   "outputs": [
    {
     "name": "stdout",
     "output_type": "stream",
     "text": [
      "Lexical Diversity of Second Grade Text: 0.000722\n",
      "Lexical Diversity of Fourth Grade Text: 0.000229\n",
      "Lexical Diversity of Sixth Grade Text: 0.000107\n"
     ]
    }
   ],
   "source": [
    "ld_second = round(lexical_diversity(secondgrade),6)\n",
    "ld_fourth = round(lexical_diversity(fourthgrade),6)\n",
    "ld_sixth = round(lexical_diversity(sixthgrade),6)\n",
    "\n",
    "print(f'Lexical Diversity of Second Grade Text: {ld_second}')\n",
    "print(f'Lexical Diversity of Fourth Grade Text: {ld_fourth}')\n",
    "print(f'Lexical Diversity of Sixth Grade Text: {ld_sixth}')"
   ]
  },
  {
   "cell_type": "markdown",
   "metadata": {},
   "source": [
    "***\n",
    "## 4. Compare the vocabulary size of the same three texts. Explain whether the result was surprising.\n",
    "\n",
    "According to Merriam-Webster, vocabulary is \"a list or collection of words or of words and phrases usually alphabetically arranged and explained or defined.\" This defintion could be interpreted in two ways: The total sum of words in a text or the count of distinct words in a text. Due to the multiple possible interpretations, I calculated both. The sum of total words in a text did not surpirse me as the sixth grade class had the longest text at 823,943 total words followed by fouth grade and lastly second with a total of 117,796. \n",
    "\n",
    "While the total words in the texts was not surprising, the count of distinct words in each body of text only differend by 3 words from Sixth grade (88) to Second grade (85). This was more surprising, but explained the results of the lexical diversity calculation from above. "
   ]
  },
  {
   "cell_type": "code",
   "execution_count": 4,
   "metadata": {},
   "outputs": [
    {
     "name": "stdout",
     "output_type": "stream",
     "text": [
      "Length of Second Grade Reader is 117796\n",
      "Length of Fourth Grade Reader is 379998\n",
      "Length of Sixth Grade Reader is 823949\n"
     ]
    }
   ],
   "source": [
    "#create length calculations\n",
    "second_len = len(secondgrade)\n",
    "fourth_len = len(fourthgrade)\n",
    "sixth_len = len(sixthgrade)\n",
    "\n",
    "print(f'Length of Second Grade Reader is {second_len}')\n",
    "print(f'Length of Fourth Grade Reader is {fourth_len}')\n",
    "print(f'Length of Sixth Grade Reader is {sixth_len}')"
   ]
  },
  {
   "cell_type": "code",
   "execution_count": 5,
   "metadata": {},
   "outputs": [
    {
     "name": "stdout",
     "output_type": "stream",
     "text": [
      "Distict Count of Words in Second Grade Reader is 85\n",
      "Distict Count of Words in Fourth Grade Reader is 87\n",
      "Distict Count of Words in Sixth Grade Reader is 88\n"
     ]
    }
   ],
   "source": [
    "#create distinct vocab sets\n",
    "vocab_second = len(set(secondgrade))\n",
    "vocab_fourth = len(set(fourthgrade))\n",
    "vocab_sixth = len(set(sixthgrade))\n",
    "\n",
    "print(f'Distict Count of Words in Second Grade Reader is {vocab_second}')\n",
    "print(f'Distict Count of Words in Fourth Grade Reader is {vocab_fourth}')\n",
    "print(f'Distict Count of Words in Sixth Grade Reader is {vocab_sixth}')"
   ]
  },
  {
   "cell_type": "markdown",
   "metadata": {},
   "source": [
    "***\n",
    "## 5. Write a paragraph arguing whether vocabulary size and lexical diversity in combination could be a better measure of text difficulty (or reading level) than either measure is by itself.\n",
    "\n",
    "While originally the lexical diversity score was not expected, the additional calculations of text length and distinct word count explained the reasoning behind the scores. Due to the factors listed, both factors are poor indicators of reading levels and additional benchmarks should be considered to determine reading level. To better determine reading level, I would suggest the complexity of the words used in the text and not necessarly longer words meaning a higher reading level. \n",
    "***"
   ]
  }
 ],
 "metadata": {
  "kernelspec": {
   "display_name": "Python 3.9.13 ('NLP')",
   "language": "python",
   "name": "python3"
  },
  "language_info": {
   "codemirror_mode": {
    "name": "ipython",
    "version": 3
   },
   "file_extension": ".py",
   "mimetype": "text/x-python",
   "name": "python",
   "nbconvert_exporter": "python",
   "pygments_lexer": "ipython3",
   "version": "3.9.13"
  },
  "orig_nbformat": 4,
  "vscode": {
   "interpreter": {
    "hash": "76cbc1d22d2ec03295cd5a8ae680c721667c569897428aaeeb69f9305902a57b"
   }
  }
 },
 "nbformat": 4,
 "nbformat_minor": 2
}
