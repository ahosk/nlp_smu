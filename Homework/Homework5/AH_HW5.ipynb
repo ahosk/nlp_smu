{
 "cells": [
  {
   "cell_type": "markdown",
   "id": "b97e2ff1-c6f7-486e-a457-5ee652dd0812",
   "metadata": {},
   "source": [
    "Allen Hoskins \n",
    "\n",
    "DS7337: Natural Language Processing, Fall 2022\n",
    "\n",
    "# <center> <u>Homework 5</u>"
   ]
  },
  {
   "cell_type": "code",
   "execution_count": 5,
   "id": "b084a24f-a946-4738-a175-d72c6c2f28ad",
   "metadata": {},
   "outputs": [],
   "source": [
    "import numpy as np\n",
    "import pandas as pd\n",
    "import nltk\n",
    "import requests\n",
    "from bs4 import BeautifulSoup"
   ]
  },
  {
   "cell_type": "markdown",
   "id": "f96d4488-4493-4f0f-8151-52f8875dd179",
   "metadata": {},
   "source": [
    "## 1. Compile a list of static links (permalinks) to individual user movie reviews from one particular website. \n",
    "\n",
    "This will be your working dataset for this assignment, as well as for assignments 7 and 8.   \n",
    "\n",
    "a. It does not matter if you use a crawler or if you manually collect the links, but you will need at least 100 movie review links. Note that, as of this writing, the robots.txt file of IMDB.com allows the crawling of user reviews.\n",
    "\n",
    "b. Each link should be to a web page that has only one user review of only one movie, e.g., the user review permalinks on the IMDB site.\n",
    "\n",
    "c.\tChoose reviews of movies that are all in the same genre, e.g., sci-fi, mystery, romance, superhero, etc.  \n",
    "\n",
    "d.\tMake sure your collection includes reviews of several movies in your chosen genre and that it includes a mix of negative and positive reviews.  "
   ]
  },
  {
   "cell_type": "code",
   "execution_count": 6,
   "id": "12e1e6e2-ed81-4c7a-8956-8f670c928b77",
   "metadata": {},
   "outputs": [],
   "source": [
    "def get_permalinks(reviews_url):\n",
    "    \n",
    "    response = requests.get(reviews_url)\n",
    "    \n",
    "    soup = BeautifulSoup(response.content, \"html.parser\")\n",
    "    \n",
    "    a_tags = soup.find_all(\"a\")\n",
    "    \n",
    "    permalinks = []\n",
    "    \n",
    "    for tag in a_tags:\n",
    "        if tag.get_text() == \"Permalink\":\n",
    "            permalink = \"https://www.imdb.com\" + tag.attrs['href']\n",
    "            permalinks.append(permalink)\n",
    "            \n",
    "    return permalinks\n",
    "\n",
    "def get_all_permalinks(pages_dict):\n",
    "    \n",
    "    all_permalinks = []\n",
    "    \n",
    "    for movie_name, review_page_link in pages_dict.items():\n",
    "        \n",
    "        permalinks = get_permalinks(reviews_url=review_page_link)\n",
    "        all_permalinks += permalinks\n",
    "        \n",
    "        title = ' '.join(movie_name.split(\"_\")).title()\n",
    "        print(f\"Scraped {len(permalinks)} Review Permalinks for {title}\")\n",
    "    \n",
    "    return all_permalinks"
   ]
  },
  {
   "cell_type": "code",
   "execution_count": 7,
   "id": "84b073d9-03e0-4012-9470-b130fb2006ef",
   "metadata": {},
   "outputs": [
    {
     "name": "stdout",
     "output_type": "stream",
     "text": [
      "Scraped 25 Review Permalinks for Thor: Love And Thunder\n",
      "Scraped 25 Review Permalinks for Dc League Of Super Pets\n",
      "Scraped 25 Review Permalinks for Everything Everywhere All At Once\n",
      "Scraped 25 Review Permalinks for The Lost City\n",
      "Scraped 24 Review Permalinks for Deadpool 2\n",
      "Scraped 25 Review Permalinks for Deadpool\n",
      "Scraped 25 Review Permalinks for Land Of The Lost\n",
      "Scraped 25 Review Permalinks for Free Guy\n",
      "Scraped 25 Review Permalinks for The Suicide Squad\n",
      "Scraped 24 Review Permalinks for Guardians Of The Galaxy\n"
     ]
    }
   ],
   "source": [
    "review_pages = {'thor:_love_and_thunder':\"https://www.imdb.com/title/tt10648342/reviews/?ref_=tt_ql_urv\", \n",
    "                'dc_league_of_super_pets':\"https://www.imdb.com/title/tt8912936/reviews/?ref_=tt_ql_urv\", \n",
    "                \"everything_everywhere_all_at_once\":\"https://www.imdb.com/title/tt6710474/reviews/?ref_=tt_ql_urv\", \n",
    "                \"the_lost_city\":\"https://www.imdb.com/title/tt13320622/reviews/?ref_=tt_ql_urv\", \n",
    "                \"deadpool_2\":\"https://www.imdb.com/title/tt5463162/reviews/?ref_=tt_ql_urv\", \n",
    "                \"deadpool\":\"https://www.imdb.com/title/tt1431045/reviews/?ref_=tt_ql_urv\", \n",
    "                \"land_of_the_lost\":\"https://www.imdb.com/title/tt0457400/reviews/?ref_=tt_ql_urv\", \n",
    "                \"free_guy\":\"https://www.imdb.com/title/tt6264654/reviews/?ref_=tt_ql_urv\", \n",
    "                \"the_suicide_squad\":\"https://www.imdb.com/title/tt6334354/reviews/?ref_=tt_ql_urv\",\n",
    "                \"guardians_of_the_galaxy\":\"https://www.imdb.com/title/tt2015381/reviews/?ref_=tt_ql_urv\"}\n",
    "\n",
    "plinks = get_all_permalinks(pages_dict=review_pages)"
   ]
  },
  {
   "cell_type": "markdown",
   "id": "6e340b5d-6a43-40cb-b954-497cbc6fb6a1",
   "metadata": {},
   "source": [
    "## 2.\tExtract noun phrase (NP) chunks from your reviews using the following procedure:\n",
    "\n",
    "a. In Python, use BeautifulSoup to grab the main review text from each link.  \n",
    "\n",
    "b.\tNext run each review text through a tokenizer, and then try to NP-chunk it with a shallow parser. \n",
    "\n",
    "c.\tYou probably will have too many unknown words, owing to proper names of characters, actors, and so on that are not in your working dictionary. Make sure the main names that are relevant to the movies in your collection of reviews are added to the working lexicon, and then run the NP chunker again."
   ]
  },
  {
   "cell_type": "code",
   "execution_count": 25,
   "id": "8d1eaaf6-f1c4-4365-8b49-0ed4b4bb902e",
   "metadata": {},
   "outputs": [],
   "source": [
    "reviews = []\n",
    "for url in plinks:\n",
    "    response = requests.get(url)\n",
    "    soup = BeautifulSoup(response.text,'html.parser').find(\"div\",class_='text show-more__control')\n",
    "    text = soup.get_text()\n",
    "    reviews.append(text)"
   ]
  },
  {
   "cell_type": "code",
   "execution_count": 38,
   "id": "5bc9a2f4",
   "metadata": {},
   "outputs": [],
   "source": [
    "from nltk import word_tokenize,pos_tag\n",
    "from nltk.chunk import ne_chunk\n",
    "\n",
    "\n"
   ]
  },
  {
   "cell_type": "code",
   "execution_count": 43,
   "id": "55b5cc08",
   "metadata": {},
   "outputs": [
    {
     "ename": "TypeError",
     "evalue": "Tree() argument 2 should be a list, not a string",
     "output_type": "error",
     "traceback": [
      "\u001b[0;31m---------------------------------------------------------------------------\u001b[0m",
      "\u001b[0;31mAttributeError\u001b[0m                            Traceback (most recent call last)",
      "File \u001b[0;32m~/virtualenvs/NLP/lib/python3.9/site-packages/nltk/chunk/regexp.py:1075\u001b[0m, in \u001b[0;36mRegexpChunkParser.parse\u001b[0;34m(self, chunk_struct, trace)\u001b[0m\n\u001b[1;32m   1074\u001b[0m \u001b[39mtry\u001b[39;00m:\n\u001b[0;32m-> 1075\u001b[0m     chunk_struct\u001b[39m.\u001b[39;49mlabel()\n\u001b[1;32m   1076\u001b[0m \u001b[39mexcept\u001b[39;00m \u001b[39mAttributeError\u001b[39;00m:\n",
      "\u001b[0;31mAttributeError\u001b[0m: 'str' object has no attribute 'label'",
      "\nDuring handling of the above exception, another exception occurred:\n",
      "\u001b[0;31mTypeError\u001b[0m                                 Traceback (most recent call last)",
      "\u001b[1;32m/Users/allen/Desktop/MSDS/NLP/nlp_smu/Homework/Homework5/AH_HW5.ipynb Cell 10\u001b[0m in \u001b[0;36m<cell line: 3>\u001b[0;34m()\u001b[0m\n\u001b[1;32m      <a href='vscode-notebook-cell:/Users/allen/Desktop/MSDS/NLP/nlp_smu/Homework/Homework5/AH_HW5.ipynb#ch0000018?line=0'>1</a>\u001b[0m grammar \u001b[39m=\u001b[39m \u001b[39m\"\u001b[39m\u001b[39mNP: \u001b[39m\u001b[39m{\u001b[39m\u001b[39m<DT>?<JJ>*<NN>}\u001b[39m\u001b[39m\"\u001b[39m\n\u001b[1;32m      <a href='vscode-notebook-cell:/Users/allen/Desktop/MSDS/NLP/nlp_smu/Homework/Homework5/AH_HW5.ipynb#ch0000018?line=1'>2</a>\u001b[0m NPChunker \u001b[39m=\u001b[39m nltk\u001b[39m.\u001b[39mRegexpParser(grammar)\n\u001b[0;32m----> <a href='vscode-notebook-cell:/Users/allen/Desktop/MSDS/NLP/nlp_smu/Homework/Homework5/AH_HW5.ipynb#ch0000018?line=2'>3</a>\u001b[0m result \u001b[39m=\u001b[39m NPChunker\u001b[39m.\u001b[39;49mparse(reviews[\u001b[39m0\u001b[39;49m])\n\u001b[1;32m      <a href='vscode-notebook-cell:/Users/allen/Desktop/MSDS/NLP/nlp_smu/Homework/Homework5/AH_HW5.ipynb#ch0000018?line=3'>4</a>\u001b[0m result\u001b[39m.\u001b[39mdraw()\n",
      "File \u001b[0;32m~/virtualenvs/NLP/lib/python3.9/site-packages/nltk/chunk/regexp.py:1276\u001b[0m, in \u001b[0;36mRegexpParser.parse\u001b[0;34m(self, chunk_struct, trace)\u001b[0m\n\u001b[1;32m   1274\u001b[0m \u001b[39mfor\u001b[39;00m i \u001b[39min\u001b[39;00m \u001b[39mrange\u001b[39m(\u001b[39mself\u001b[39m\u001b[39m.\u001b[39m_loop):\n\u001b[1;32m   1275\u001b[0m     \u001b[39mfor\u001b[39;00m parser \u001b[39min\u001b[39;00m \u001b[39mself\u001b[39m\u001b[39m.\u001b[39m_stages:\n\u001b[0;32m-> 1276\u001b[0m         chunk_struct \u001b[39m=\u001b[39m parser\u001b[39m.\u001b[39;49mparse(chunk_struct, trace\u001b[39m=\u001b[39;49mtrace)\n\u001b[1;32m   1277\u001b[0m \u001b[39mreturn\u001b[39;00m chunk_struct\n",
      "File \u001b[0;32m~/virtualenvs/NLP/lib/python3.9/site-packages/nltk/chunk/regexp.py:1077\u001b[0m, in \u001b[0;36mRegexpChunkParser.parse\u001b[0;34m(self, chunk_struct, trace)\u001b[0m\n\u001b[1;32m   1075\u001b[0m     chunk_struct\u001b[39m.\u001b[39mlabel()\n\u001b[1;32m   1076\u001b[0m \u001b[39mexcept\u001b[39;00m \u001b[39mAttributeError\u001b[39;00m:\n\u001b[0;32m-> 1077\u001b[0m     chunk_struct \u001b[39m=\u001b[39m Tree(\u001b[39mself\u001b[39;49m\u001b[39m.\u001b[39;49m_root_label, chunk_struct)\n\u001b[1;32m   1079\u001b[0m \u001b[39m# Use the default trace value?\u001b[39;00m\n\u001b[1;32m   1080\u001b[0m \u001b[39mif\u001b[39;00m trace \u001b[39mis\u001b[39;00m \u001b[39mNone\u001b[39;00m:\n",
      "File \u001b[0;32m~/virtualenvs/NLP/lib/python3.9/site-packages/nltk/tree/tree.py:99\u001b[0m, in \u001b[0;36mTree.__init__\u001b[0;34m(self, node, children)\u001b[0m\n\u001b[1;32m     95\u001b[0m     \u001b[39mraise\u001b[39;00m \u001b[39mTypeError\u001b[39;00m(\n\u001b[1;32m     96\u001b[0m         \u001b[39m\"\u001b[39m\u001b[39m%s\u001b[39;00m\u001b[39m: Expected a node value and child list \u001b[39m\u001b[39m\"\u001b[39m \u001b[39m%\u001b[39m \u001b[39mtype\u001b[39m(\u001b[39mself\u001b[39m)\u001b[39m.\u001b[39m\u001b[39m__name__\u001b[39m\n\u001b[1;32m     97\u001b[0m     )\n\u001b[1;32m     98\u001b[0m \u001b[39melif\u001b[39;00m \u001b[39misinstance\u001b[39m(children, \u001b[39mstr\u001b[39m):\n\u001b[0;32m---> 99\u001b[0m     \u001b[39mraise\u001b[39;00m \u001b[39mTypeError\u001b[39;00m(\n\u001b[1;32m    100\u001b[0m         \u001b[39m\"\u001b[39m\u001b[39m%s\u001b[39;00m\u001b[39m() argument 2 should be a list, not a \u001b[39m\u001b[39m\"\u001b[39m\n\u001b[1;32m    101\u001b[0m         \u001b[39m\"\u001b[39m\u001b[39mstring\u001b[39m\u001b[39m\"\u001b[39m \u001b[39m%\u001b[39m \u001b[39mtype\u001b[39m(\u001b[39mself\u001b[39m)\u001b[39m.\u001b[39m\u001b[39m__name__\u001b[39m\n\u001b[1;32m    102\u001b[0m     )\n\u001b[1;32m    103\u001b[0m \u001b[39melse\u001b[39;00m:\n\u001b[1;32m    104\u001b[0m     \u001b[39mlist\u001b[39m\u001b[39m.\u001b[39m\u001b[39m__init__\u001b[39m(\u001b[39mself\u001b[39m, children)\n",
      "\u001b[0;31mTypeError\u001b[0m: Tree() argument 2 should be a list, not a string"
     ]
    }
   ],
   "source": [
    "grammar = \"NP: {<DT>?<JJ>*<NN>}\"\n",
    "NPChunker = nltk.RegexpParser(grammar)\n",
    "result = NPChunker.parse(reviews[0])\n",
    "result.draw()"
   ]
  },
  {
   "cell_type": "code",
   "execution_count": 54,
   "id": "72b552b5",
   "metadata": {},
   "outputs": [
    {
     "ename": "ModuleNotFoundError",
     "evalue": "No module named '_tkinter'",
     "output_type": "error",
     "traceback": [
      "\u001b[0;31m---------------------------------------------------------------------------\u001b[0m",
      "\u001b[0;31mModuleNotFoundError\u001b[0m                       Traceback (most recent call last)",
      "\u001b[1;32m/Users/allen/Desktop/MSDS/NLP/nlp_smu/Homework/Homework5/AH_HW5.ipynb Cell 11\u001b[0m in \u001b[0;36m<cell line: 4>\u001b[0;34m()\u001b[0m\n\u001b[1;32m      <a href='vscode-notebook-cell:/Users/allen/Desktop/MSDS/NLP/nlp_smu/Homework/Homework5/AH_HW5.ipynb#ch0000017?line=1'>2</a>\u001b[0m \u001b[39mimport\u001b[39;00m \u001b[39mpprint\u001b[39;00m\n\u001b[1;32m      <a href='vscode-notebook-cell:/Users/allen/Desktop/MSDS/NLP/nlp_smu/Homework/Homework5/AH_HW5.ipynb#ch0000017?line=2'>3</a>\u001b[0m \u001b[39mimport\u001b[39;00m \u001b[39mre\u001b[39;00m\n\u001b[0;32m----> <a href='vscode-notebook-cell:/Users/allen/Desktop/MSDS/NLP/nlp_smu/Homework/Homework5/AH_HW5.ipynb#ch0000017?line=3'>4</a>\u001b[0m \u001b[39mimport\u001b[39;00m \u001b[39m_tkinter\u001b[39;00m\n",
      "\u001b[0;31mModuleNotFoundError\u001b[0m: No module named '_tkinter'"
     ]
    }
   ],
   "source": [
    "import nltk\n",
    "import pprint\n",
    "import re\n",
    "import tkinter\n",
    "\n"
   ]
  },
  {
   "cell_type": "code",
   "execution_count": 51,
   "id": "fb9cd81a",
   "metadata": {},
   "outputs": [
    {
     "name": "stdout",
     "output_type": "stream",
     "text": [
      "After Chunking (S\n",
      "  (mychunk Thor/NN)\n",
      "  :/:\n",
      "  (mychunk Love/NNP and/CC)\n",
      "  (mychunk Thunder/NNP)\n",
      "  does/VBZ\n",
      "  attempt/VB\n",
      "  to/TO\n",
      "  explore/VB\n",
      "  (mychunk themes/NNS)\n",
      "  of/IN\n",
      "  (mychunk love/NN and/CC)\n",
      "  (mychunk loss/NN whilst/NN)\n",
      "  introducing/VBG\n",
      "  the/DT\n",
      "  (mychunk Mighty/NNP Thor/NNP and/CC)\n",
      "  putting/VBG\n",
      "  (mychunk Thor/NNP)\n",
      "  on/IN\n",
      "  a/DT\n",
      "  (mychunk journey/NN)\n",
      "  of/IN\n",
      "  (mychunk self/JJ)\n",
      "  (mychunk discovery/NN)\n",
      "  ./.\n",
      "  However/RB\n",
      "  ,/,\n",
      "  it/PRP\n",
      "  sadly/RB\n",
      "  does/VBZ\n",
      "  n't/RB\n",
      "  work/VB\n",
      "  as/RB\n",
      "  well/RB\n",
      "  as/IN\n",
      "  it/PRP\n",
      "  should/MD\n",
      "  due/VB\n",
      "  to/TO\n",
      "  a/DT\n",
      "  (mychunk rushed/JJ)\n",
      "  (mychunk pace/NN and/CC)\n",
      "  (mychunk way/NN)\n",
      "  too/RB\n",
      "  (mychunk many/JJ)\n",
      "  (mychunk jokes/NNS)\n",
      "  that/WDT\n",
      "  are/VBP\n",
      "  almost/RB\n",
      "  never/RB\n",
      "  (mychunk funny.Chris/JJ)\n",
      "  (mychunk Hemsworth/NNP)\n",
      "  is/VBZ\n",
      "  still/RB\n",
      "  going/VBG\n",
      "  (mychunk strong/JJ)\n",
      "  as/IN\n",
      "  (mychunk Thor/NN but/CC)\n",
      "  the/DT\n",
      "  (mychunk extreme/JJ)\n",
      "  (mychunk goofiness/NN)\n",
      "  is/VBZ\n",
      "  getting/VBG\n",
      "  a/DT\n",
      "  (mychunk little/JJ)\n",
      "  (mychunk stale/NN)\n",
      "  ./.\n",
      "  (mychunk Natalie/NNP Portman/NNP)\n",
      "  has/VBZ\n",
      "  never/RB\n",
      "  been/VBN\n",
      "  better/RB\n",
      "  as/IN\n",
      "  this/DT\n",
      "  (mychunk character/NN and/CC)\n",
      "  (mychunk Tessa/NNP Thompson/NNP)\n",
      "  is/VBZ\n",
      "  still/RB\n",
      "  (mychunk great/JJ)\n",
      "  as/IN\n",
      "  (mychunk Valkyrie/NNP)\n",
      "  ,/,\n",
      "  even/RB\n",
      "  though/IN\n",
      "  she/PRP\n",
      "  does/VBZ\n",
      "  n't/RB\n",
      "  really/RB\n",
      "  get/VB\n",
      "  (mychunk much/JJ)\n",
      "  to/TO\n",
      "  do.Taika/VB\n",
      "  (mychunk Waititi/NNP)\n",
      "  massively/RB\n",
      "  overstays/VBZ\n",
      "  his/PRP$\n",
      "  (mychunk welcome/NN)\n",
      "  as/IN\n",
      "  (mychunk Korg/NNP)\n",
      "  this/DT\n",
      "  (mychunk time/NN)\n",
      "  ,/,\n",
      "  who/WP\n",
      "  becomes/VBZ\n",
      "  very/RB\n",
      "  (mychunk annoying/JJ)\n",
      "  really/RB\n",
      "  fast/RB\n",
      "  ./.\n",
      "  (mychunk Christian/JJ)\n",
      "  (mychunk Bale/NNP)\n",
      "  is/VBZ\n",
      "  one/CD\n",
      "  of/IN\n",
      "  the/DT\n",
      "  (mychunk better/JJR)\n",
      "  (mychunk MCU/NNP villains/NNS)\n",
      "  with/IN\n",
      "  a/DT\n",
      "  (mychunk good/JJ)\n",
      "  (mychunk motivation/NN and/CC)\n",
      "  an/DT\n",
      "  (mychunk unsettling/JJ)\n",
      "  (mychunk presence/NN but/CC)\n",
      "  is/VBZ\n",
      "  let/VBN\n",
      "  down/RP\n",
      "  by/IN\n",
      "  (mychunk limited/JJ)\n",
      "  (mychunk screen/NN time.Takia/NN)\n",
      "  's/POS\n",
      "  (mychunk direction/NN)\n",
      "  on/IN\n",
      "  the/DT\n",
      "  (mychunk other/JJ)\n",
      "  (mychunk hand/NN)\n",
      "  is/VBZ\n",
      "  (mychunk stronger/JJR)\n",
      "  ,/,\n",
      "  there/EX\n",
      "  's/VBZ\n",
      "  some/DT\n",
      "  (mychunk nice/JJ visual/JJ)\n",
      "  (mychunk imagery/NN and/CC)\n",
      "  the/DT\n",
      "  (mychunk colour/NN palette/NN)\n",
      "  is/VBZ\n",
      "  (mychunk pretty/JJ vibrant/JJ but/CC)\n",
      "  the/DT\n",
      "  (mychunk MCU/NNP grey/NN)\n",
      "  is/VBZ\n",
      "  still/RB\n",
      "  (mychunk present/JJ)\n",
      "  throughout/IN\n",
      "  sadly/RB\n",
      "  ./.\n",
      "  The/DT\n",
      "  (mychunk CG/NNP)\n",
      "  is/VBZ\n",
      "  consistently/RB\n",
      "  (mychunk inconsistent/JJ)\n",
      "  from/IN\n",
      "  (mychunk start/NN)\n",
      "  to/TO\n",
      "  finish.The/VB\n",
      "  (mychunk music/NN)\n",
      "  by/IN\n",
      "  (mychunk Michael/NNP Giacchino/NNP)\n",
      "  is/VBZ\n",
      "  (mychunk fine/JJ)\n",
      "  ,/,\n",
      "  there/EX\n",
      "  's/VBZ\n",
      "  one/CD\n",
      "  (mychunk new/JJ)\n",
      "  (mychunk theme/NN)\n",
      "  that/WDT\n",
      "  's/VBZ\n",
      "  (mychunk pretty/JJ memorable/JJ but/CC)\n",
      "  the/DT\n",
      "  (mychunk lack/NN)\n",
      "  of/IN\n",
      "  (mychunk Thor/NNP)\n",
      "  's/POS\n",
      "  (mychunk theme/NN)\n",
      "  is/VBZ\n",
      "  annoying/VBG\n",
      "  ./.\n",
      "  The/DT\n",
      "  (mychunk soundtrack/NN)\n",
      "  is/VBZ\n",
      "  really/RB\n",
      "  (mychunk good/JJ)\n",
      "  ,/,\n",
      "  all/PDT\n",
      "  the/DT\n",
      "  (mychunk songs/NNS)\n",
      "  are/VBP\n",
      "  (mychunk classics/NNS)\n",
      "  that/WDT\n",
      "  fit/VBP\n",
      "  the/DT\n",
      "  (mychunk tone/NN and/CC)\n",
      "  (mychunk style/NN)\n",
      "  well/RB\n",
      "  (mychunk but/CC)\n",
      "  some/DT\n",
      "  could/MD\n",
      "  have/VB\n",
      "  been/VBN\n",
      "  used/VBN\n",
      "  better/RBR\n",
      "  ./.)\n"
     ]
    },
    {
     "ename": "ModuleNotFoundError",
     "evalue": "No module named '_tkinter'",
     "output_type": "error",
     "traceback": [
      "\u001b[0;31m---------------------------------------------------------------------------\u001b[0m",
      "\u001b[0;31mModuleNotFoundError\u001b[0m                       Traceback (most recent call last)",
      "\u001b[1;32m/Users/allen/Desktop/MSDS/NLP/nlp_smu/Homework/Homework5/AH_HW5.ipynb Cell 12\u001b[0m in \u001b[0;36m<cell line: 3>\u001b[0;34m()\u001b[0m\n\u001b[1;32m      <a href='vscode-notebook-cell:/Users/allen/Desktop/MSDS/NLP/nlp_smu/Homework/Homework5/AH_HW5.ipynb#ch0000019?line=0'>1</a>\u001b[0m output \u001b[39m=\u001b[39m chunker\u001b[39m.\u001b[39mparse(pos_tag(word_tokenize(reviews[\u001b[39m0\u001b[39m])))\n\u001b[1;32m      <a href='vscode-notebook-cell:/Users/allen/Desktop/MSDS/NLP/nlp_smu/Homework/Homework5/AH_HW5.ipynb#ch0000019?line=1'>2</a>\u001b[0m \u001b[39mprint\u001b[39m(\u001b[39m\"\u001b[39m\u001b[39mAfter Chunking\u001b[39m\u001b[39m\"\u001b[39m,output)\n\u001b[0;32m----> <a href='vscode-notebook-cell:/Users/allen/Desktop/MSDS/NLP/nlp_smu/Homework/Homework5/AH_HW5.ipynb#ch0000019?line=2'>3</a>\u001b[0m output\u001b[39m.\u001b[39;49mdraw()\n",
      "File \u001b[0;32m~/virtualenvs/NLP/lib/python3.9/site-packages/nltk/tree/tree.py:760\u001b[0m, in \u001b[0;36mTree.draw\u001b[0;34m(self)\u001b[0m\n\u001b[1;32m    756\u001b[0m \u001b[39mdef\u001b[39;00m \u001b[39mdraw\u001b[39m(\u001b[39mself\u001b[39m):\n\u001b[1;32m    757\u001b[0m     \u001b[39m\"\"\"\u001b[39;00m\n\u001b[1;32m    758\u001b[0m \u001b[39m    Open a new window containing a graphical diagram of this tree.\u001b[39;00m\n\u001b[1;32m    759\u001b[0m \u001b[39m    \"\"\"\u001b[39;00m\n\u001b[0;32m--> 760\u001b[0m     \u001b[39mfrom\u001b[39;00m \u001b[39mnltk\u001b[39;00m\u001b[39m.\u001b[39;00m\u001b[39mdraw\u001b[39;00m\u001b[39m.\u001b[39;00m\u001b[39mtree\u001b[39;00m \u001b[39mimport\u001b[39;00m draw_trees\n\u001b[1;32m    762\u001b[0m     draw_trees(\u001b[39mself\u001b[39m)\n",
      "File \u001b[0;32m~/virtualenvs/NLP/lib/python3.9/site-packages/nltk/draw/tree.py:12\u001b[0m, in \u001b[0;36m<module>\u001b[0;34m\u001b[0m\n\u001b[1;32m      1\u001b[0m \u001b[39m# Natural Language Toolkit: Graphical Representations for Trees\u001b[39;00m\n\u001b[1;32m      2\u001b[0m \u001b[39m#\u001b[39;00m\n\u001b[1;32m      3\u001b[0m \u001b[39m# Copyright (C) 2001-2022 NLTK Project\u001b[39;00m\n\u001b[1;32m      4\u001b[0m \u001b[39m# Author: Edward Loper <edloper@gmail.com>\u001b[39;00m\n\u001b[1;32m      5\u001b[0m \u001b[39m# URL: <https://www.nltk.org/>\u001b[39;00m\n\u001b[1;32m      6\u001b[0m \u001b[39m# For license information, see LICENSE.TXT\u001b[39;00m\n\u001b[1;32m      8\u001b[0m \u001b[39m\"\"\"\u001b[39;00m\n\u001b[1;32m      9\u001b[0m \u001b[39mGraphically display a Tree.\u001b[39;00m\n\u001b[1;32m     10\u001b[0m \u001b[39m\"\"\"\u001b[39;00m\n\u001b[0;32m---> 12\u001b[0m \u001b[39mfrom\u001b[39;00m \u001b[39mtkinter\u001b[39;00m \u001b[39mimport\u001b[39;00m IntVar, Menu, Tk\n\u001b[1;32m     14\u001b[0m \u001b[39mfrom\u001b[39;00m \u001b[39mnltk\u001b[39;00m\u001b[39m.\u001b[39;00m\u001b[39mdraw\u001b[39;00m\u001b[39m.\u001b[39;00m\u001b[39mutil\u001b[39;00m \u001b[39mimport\u001b[39;00m (\n\u001b[1;32m     15\u001b[0m     BoxWidget,\n\u001b[1;32m     16\u001b[0m     CanvasFrame,\n\u001b[0;32m   (...)\u001b[0m\n\u001b[1;32m     20\u001b[0m     TextWidget,\n\u001b[1;32m     21\u001b[0m )\n\u001b[1;32m     22\u001b[0m \u001b[39mfrom\u001b[39;00m \u001b[39mnltk\u001b[39;00m\u001b[39m.\u001b[39;00m\u001b[39mtree\u001b[39;00m \u001b[39mimport\u001b[39;00m Tree\n",
      "File \u001b[0;32m/opt/homebrew/Cellar/python@3.9/3.9.13_1/Frameworks/Python.framework/Versions/3.9/lib/python3.9/tkinter/__init__.py:37\u001b[0m, in \u001b[0;36m<module>\u001b[0;34m\u001b[0m\n\u001b[1;32m     34\u001b[0m \u001b[39mimport\u001b[39;00m \u001b[39msys\u001b[39;00m\n\u001b[1;32m     35\u001b[0m \u001b[39mimport\u001b[39;00m \u001b[39mtypes\u001b[39;00m\n\u001b[0;32m---> 37\u001b[0m \u001b[39mimport\u001b[39;00m \u001b[39m_tkinter\u001b[39;00m \u001b[39m# If this fails your Python may not be configured for Tk\u001b[39;00m\n\u001b[1;32m     38\u001b[0m TclError \u001b[39m=\u001b[39m _tkinter\u001b[39m.\u001b[39mTclError\n\u001b[1;32m     39\u001b[0m \u001b[39mfrom\u001b[39;00m \u001b[39mtkinter\u001b[39;00m\u001b[39m.\u001b[39;00m\u001b[39mconstants\u001b[39;00m \u001b[39mimport\u001b[39;00m \u001b[39m*\u001b[39m\n",
      "\u001b[0;31mModuleNotFoundError\u001b[0m: No module named '_tkinter'"
     ]
    }
   ],
   "source": [
    "output = chunker.parse(pos_tag(word_tokenize(reviews[0])))\n",
    "print(\"After Chunking\",output)\n",
    "output.draw()"
   ]
  },
  {
   "cell_type": "code",
   "execution_count": 37,
   "id": "a20c9cb1",
   "metadata": {},
   "outputs": [],
   "source": [
    "full_chunks = []\n",
    "for review in reviews:\n",
    "    chunks = ne_chunk(pos_tag(word_tokenize(review)))\n",
    "    full_chunks.append([chunks])"
   ]
  },
  {
   "cell_type": "code",
   "execution_count": 35,
   "id": "fe40c752",
   "metadata": {},
   "outputs": [
    {
     "data": {
      "text/plain": [
       "[Tree('S', [Tree('GPE', [('Thor', 'NN')]), (':', ':'), Tree('PERSON', [('Love', 'NNP')]), ('and', 'CC'), Tree('PERSON', [('Thunder', 'NNP')]), ('does', 'VBZ'), ('attempt', 'VB'), ('to', 'TO'), ('explore', 'VB'), ('themes', 'NNS'), ('of', 'IN'), ('love', 'NN'), ('and', 'CC'), ('loss', 'NN'), ('whilst', 'NN'), ('introducing', 'VBG'), ('the', 'DT'), Tree('ORGANIZATION', [('Mighty', 'NNP'), ('Thor', 'NNP')]), ('and', 'CC'), ('putting', 'VBG'), Tree('PERSON', [('Thor', 'NNP')]), ('on', 'IN'), ('a', 'DT'), ('journey', 'NN'), ('of', 'IN'), ('self', 'JJ'), ('discovery', 'NN'), ('.', '.'), ('However', 'RB'), (',', ','), ('it', 'PRP'), ('sadly', 'RB'), ('does', 'VBZ'), (\"n't\", 'RB'), ('work', 'VB'), ('as', 'RB'), ('well', 'RB'), ('as', 'IN'), ('it', 'PRP'), ('should', 'MD'), ('due', 'VB'), ('to', 'TO'), ('a', 'DT'), ('rushed', 'JJ'), ('pace', 'NN'), ('and', 'CC'), ('way', 'NN'), ('too', 'RB'), ('many', 'JJ'), ('jokes', 'NNS'), ('that', 'WDT'), ('are', 'VBP'), ('almost', 'RB'), ('never', 'RB'), ('funny.Chris', 'JJ'), Tree('ORGANIZATION', [('Hemsworth', 'NNP')]), ('is', 'VBZ'), ('still', 'RB'), ('going', 'VBG'), ('strong', 'JJ'), ('as', 'IN'), ('Thor', 'NN'), ('but', 'CC'), ('the', 'DT'), ('extreme', 'JJ'), ('goofiness', 'NN'), ('is', 'VBZ'), ('getting', 'VBG'), ('a', 'DT'), ('little', 'JJ'), ('stale', 'NN'), ('.', '.'), Tree('PERSON', [('Natalie', 'NNP'), ('Portman', 'NNP')]), ('has', 'VBZ'), ('never', 'RB'), ('been', 'VBN'), ('better', 'RB'), ('as', 'IN'), ('this', 'DT'), ('character', 'NN'), ('and', 'CC'), Tree('PERSON', [('Tessa', 'NNP'), ('Thompson', 'NNP')]), ('is', 'VBZ'), ('still', 'RB'), ('great', 'JJ'), ('as', 'IN'), Tree('PERSON', [('Valkyrie', 'NNP')]), (',', ','), ('even', 'RB'), ('though', 'IN'), ('she', 'PRP'), ('does', 'VBZ'), (\"n't\", 'RB'), ('really', 'RB'), ('get', 'VB'), ('much', 'JJ'), ('to', 'TO'), ('do.Taika', 'VB'), Tree('PERSON', [('Waititi', 'NNP')]), ('massively', 'RB'), ('overstays', 'VBZ'), ('his', 'PRP$'), ('welcome', 'NN'), ('as', 'IN'), Tree('GPE', [('Korg', 'NNP')]), ('this', 'DT'), ('time', 'NN'), (',', ','), ('who', 'WP'), ('becomes', 'VBZ'), ('very', 'RB'), ('annoying', 'JJ'), ('really', 'RB'), ('fast', 'RB'), ('.', '.'), Tree('PERSON', [('Christian', 'JJ'), ('Bale', 'NNP')]), ('is', 'VBZ'), ('one', 'CD'), ('of', 'IN'), ('the', 'DT'), ('better', 'JJR'), Tree('ORGANIZATION', [('MCU', 'NNP')]), ('villains', 'NNS'), ('with', 'IN'), ('a', 'DT'), ('good', 'JJ'), ('motivation', 'NN'), ('and', 'CC'), ('an', 'DT'), ('unsettling', 'JJ'), ('presence', 'NN'), ('but', 'CC'), ('is', 'VBZ'), ('let', 'VBN'), ('down', 'RP'), ('by', 'IN'), ('limited', 'JJ'), ('screen', 'NN'), ('time.Takia', 'NN'), (\"'s\", 'POS'), ('direction', 'NN'), ('on', 'IN'), ('the', 'DT'), ('other', 'JJ'), ('hand', 'NN'), ('is', 'VBZ'), ('stronger', 'JJR'), (',', ','), ('there', 'EX'), (\"'s\", 'VBZ'), ('some', 'DT'), ('nice', 'JJ'), ('visual', 'JJ'), ('imagery', 'NN'), ('and', 'CC'), ('the', 'DT'), ('colour', 'NN'), ('palette', 'NN'), ('is', 'VBZ'), ('pretty', 'JJ'), ('vibrant', 'JJ'), ('but', 'CC'), ('the', 'DT'), Tree('ORGANIZATION', [('MCU', 'NNP')]), ('grey', 'NN'), ('is', 'VBZ'), ('still', 'RB'), ('present', 'JJ'), ('throughout', 'IN'), ('sadly', 'RB'), ('.', '.'), ('The', 'DT'), Tree('ORGANIZATION', [('CG', 'NNP')]), ('is', 'VBZ'), ('consistently', 'RB'), ('inconsistent', 'JJ'), ('from', 'IN'), ('start', 'NN'), ('to', 'TO'), ('finish.The', 'VB'), ('music', 'NN'), ('by', 'IN'), Tree('PERSON', [('Michael', 'NNP'), ('Giacchino', 'NNP')]), ('is', 'VBZ'), ('fine', 'JJ'), (',', ','), ('there', 'EX'), (\"'s\", 'VBZ'), ('one', 'CD'), ('new', 'JJ'), ('theme', 'NN'), ('that', 'WDT'), (\"'s\", 'VBZ'), ('pretty', 'JJ'), ('memorable', 'JJ'), ('but', 'CC'), ('the', 'DT'), ('lack', 'NN'), ('of', 'IN'), Tree('GPE', [('Thor', 'NNP')]), (\"'s\", 'POS'), ('theme', 'NN'), ('is', 'VBZ'), ('annoying', 'VBG'), ('.', '.'), ('The', 'DT'), ('soundtrack', 'NN'), ('is', 'VBZ'), ('really', 'RB'), ('good', 'JJ'), (',', ','), ('all', 'PDT'), ('the', 'DT'), ('songs', 'NNS'), ('are', 'VBP'), ('classics', 'NNS'), ('that', 'WDT'), ('fit', 'VBP'), ('the', 'DT'), ('tone', 'NN'), ('and', 'CC'), ('style', 'NN'), ('well', 'RB'), ('but', 'CC'), ('some', 'DT'), ('could', 'MD'), ('have', 'VB'), ('been', 'VBN'), ('used', 'VBN'), ('better', 'RBR'), ('.', '.')])]"
      ]
     },
     "execution_count": 35,
     "metadata": {},
     "output_type": "execute_result"
    }
   ],
   "source": [
    "from sklearn import tree\n",
    "\n",
    "\n",
    "print(tree)"
   ]
  },
  {
   "cell_type": "markdown",
   "id": "c9faaec6-cb15-42a1-8a7a-618106f4ecb8",
   "metadata": {},
   "source": [
    "## 3. Output all the chunks in a single list for each review \n",
    "\n",
    "submit that output for this assignment. Also submit a brief written summary of what you did (describe your selection of genre, your source of reviews, how many you collected, and by what means).\n"
   ]
  },
  {
   "cell_type": "code",
   "execution_count": null,
   "id": "36fa0011-b1f9-4cbf-8936-62df2a185e54",
   "metadata": {},
   "outputs": [],
   "source": []
  },
  {
   "cell_type": "code",
   "execution_count": null,
   "id": "264040e0-3228-4734-b0e5-23386311a4fd",
   "metadata": {},
   "outputs": [],
   "source": []
  }
 ],
 "metadata": {
  "kernelspec": {
   "display_name": "Python 3.9.13 ('NLP')",
   "language": "python",
   "name": "python3"
  },
  "language_info": {
   "codemirror_mode": {
    "name": "ipython",
    "version": 3
   },
   "file_extension": ".py",
   "mimetype": "text/x-python",
   "name": "python",
   "nbconvert_exporter": "python",
   "pygments_lexer": "ipython3",
   "version": "3.9.13"
  },
  "vscode": {
   "interpreter": {
    "hash": "76cbc1d22d2ec03295cd5a8ae680c721667c569897428aaeeb69f9305902a57b"
   }
  }
 },
 "nbformat": 4,
 "nbformat_minor": 5
}
