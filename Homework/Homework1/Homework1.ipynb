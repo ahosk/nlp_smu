{
 "cells": [
  {
   "cell_type": "code",
   "execution_count": 1,
   "metadata": {},
   "outputs": [],
   "source": [
    "import nltk"
   ]
  },
  {
   "cell_type": "code",
   "execution_count": 2,
   "metadata": {},
   "outputs": [],
   "source": [
    "#load texts\n",
    "secondgrade = open(r'/Users/allen/Desktop/MSDS/NLP/Homeworks/Homework 1/SecondGradeReader.txt')\n",
    "fourthgrade = open(r'/Users/allen/Desktop/MSDS/NLP/Homeworks/Homework 1/FourthGradeReader.txt')\n",
    "sixthgrade = open(r'/Users/allen/Desktop/MSDS/NLP/Homeworks/Homework 1/SixthGradeReader.txt')\n",
    "\n",
    "#read texts\n",
    "secondgrade = secondgrade.read()\n",
    "fourthgrade = fourthgrade.read()\n",
    "sixthgrade = sixthgrade.read()"
   ]
  },
  {
   "cell_type": "code",
   "execution_count": 3,
   "metadata": {},
   "outputs": [
    {
     "name": "stdout",
     "output_type": "stream",
     "text": [
      "Length of Second Grade Reader is 117796\n",
      "Length of Fourth Grade Reader is 379998\n",
      "Length of Sixth Grade Reader is 823949\n"
     ]
    }
   ],
   "source": [
    "#create length calculations\n",
    "second_len = len(secondgrade)\n",
    "fourth_len = len(fourthgrade)\n",
    "sixth_len = len(sixthgrade)\n",
    "\n",
    "print(f'Length of Second Grade Reader is {second_len}')\n",
    "print(f'Length of Fourth Grade Reader is {fourth_len}')\n",
    "print(f'Length of Sixth Grade Reader is {sixth_len}')"
   ]
  },
  {
   "cell_type": "code",
   "execution_count": 4,
   "metadata": {},
   "outputs": [
    {
     "name": "stdout",
     "output_type": "stream",
     "text": [
      "Distict Count of Words in Second Grade Reader is 85\n",
      "Distict Count of Words in Fourth Grade Reader is 87\n",
      "Distict Count of Words in Sixth Grade Reader is 88\n"
     ]
    }
   ],
   "source": [
    "#create distinct vocab sets\n",
    "vocab_second = len(set(secondgrade))\n",
    "vocab_fourth = len(set(fourthgrade))\n",
    "vocab_sixth = len(set(sixthgrade))\n",
    "\n",
    "print(f'Distict Count of Words in Second Grade Reader is {vocab_second}')\n",
    "print(f'Distict Count of Words in Fourth Grade Reader is {vocab_fourth}')\n",
    "print(f'Distict Count of Words in Sixth Grade Reader is {vocab_sixth}')"
   ]
  },
  {
   "cell_type": "code",
   "execution_count": 5,
   "metadata": {},
   "outputs": [],
   "source": [
    "#create lexical diversity funciton \n",
    "def lexical_diversity(text):\n",
    "    return len(set(text)) / len(text)"
   ]
  },
  {
   "cell_type": "code",
   "execution_count": 6,
   "metadata": {},
   "outputs": [
    {
     "name": "stdout",
     "output_type": "stream",
     "text": [
      "Lexical Diversity of Second Grade Text: 0.0007215864715270468\n",
      "Lexical Diversity of Fourth Grade Text: 0.00022894857341354427\n",
      "Lexical Diversity of Sixth Grade Text: 0.00010680272686780371\n"
     ]
    }
   ],
   "source": [
    "ld_second = lexical_diversity(secondgrade)\n",
    "ld_fourth = lexical_diversity(fourthgrade)\n",
    "ld_sixth = lexical_diversity(sixthgrade)\n",
    "\n",
    "print(f'Lexical Diversity of Second Grade Text: {ld_second}')\n",
    "print(f'Lexical Diversity of Fourth Grade Text: {ld_fourth}')\n",
    "print(f'Lexical Diversity of Sixth Grade Text: {ld_sixth}')"
   ]
  }
 ],
 "metadata": {
  "kernelspec": {
   "display_name": "Python 3.9.13 ('NLP')",
   "language": "python",
   "name": "python3"
  },
  "language_info": {
   "codemirror_mode": {
    "name": "ipython",
    "version": 3
   },
   "file_extension": ".py",
   "mimetype": "text/x-python",
   "name": "python",
   "nbconvert_exporter": "python",
   "pygments_lexer": "ipython3",
   "version": "3.9.13"
  },
  "orig_nbformat": 4,
  "vscode": {
   "interpreter": {
    "hash": "76cbc1d22d2ec03295cd5a8ae680c721667c569897428aaeeb69f9305902a57b"
   }
  }
 },
 "nbformat": 4,
 "nbformat_minor": 2
}
