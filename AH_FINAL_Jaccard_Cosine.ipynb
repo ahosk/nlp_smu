{
 "cells": [
  {
   "cell_type": "markdown",
   "metadata": {},
   "source": [
    "Allen Hoskins: DS7337 - Natural Language Processing\n",
    "***\n"
   ]
  },
  {
   "cell_type": "code",
   "execution_count": 66,
   "metadata": {},
   "outputs": [],
   "source": [
    "import pandas as pd\n",
    "from sklearn.feature_extraction.text import CountVectorizer\n",
    "from sklearn.metrics.pairwise import cosine_similarity\n",
    "from sklearn.feature_extraction.text import TfidfVectorizer\n",
    "from scipy import spatial"
   ]
  },
  {
   "cell_type": "code",
   "execution_count": 124,
   "metadata": {},
   "outputs": [],
   "source": [
    "p1_c1 = '50 Inch Class H6570G 4K Ultra HD Android Smart TV with Alexa Compatibility 2.5\" 2020 Model Black Silver White HDR LED'\n",
    "p1_c2 = 'Hisense H6570G'\n",
    "p2_c1 = 'QN75Q90TAFXZA crystal 2.5\" Quantum LCD'\n",
    "p2_c2 = 'Samsung crystal UN55TU8000FXZA QLED'\n",
    "p3_c1 = 'EGLF2 50 Ultra Full Motion Articulating TV Wall Mount Bracket swivel full'\n",
    "p3_c2 = 'VIZIO EGLF2'\n",
    "\n",
    "row1 = [p1_c1, p1_c2]\n",
    "row2 = [p2_c1, p2_c2]\n",
    "row3 = [p3_c1, p3_c2]"
   ]
  },
  {
   "cell_type": "code",
   "execution_count": 68,
   "metadata": {},
   "outputs": [],
   "source": [
    "count_vec1 = CountVectorizer()\n",
    "count_vec2 = CountVectorizer()\n",
    "count_vec3 = CountVectorizer()\n",
    "row1_matrix = count_vec1.fit_transform(row1)\n",
    "row2_matrix = count_vec2.fit_transform(row2)\n",
    "row3_matrix = count_vec3.fit_transform(row3)"
   ]
  },
  {
   "cell_type": "code",
   "execution_count": 128,
   "metadata": {},
   "outputs": [],
   "source": [
    "tfidf_data = {\n",
    "            'Site 1': [p1_c1,p2_c1,p3_c1],\n",
    "            'Site 2': [p1_c2,p2_c2,p3_c2]\n",
    "            }\n",
    "\n",
    "tfidf_data = pd.DataFrame(tfidf_data)"
   ]
  },
  {
   "cell_type": "code",
   "execution_count": 151,
   "metadata": {},
   "outputs": [
    {
     "name": "stderr",
     "output_type": "stream",
     "text": [
      "/Users/allen/virtualenvs/NLP/lib/python3.9/site-packages/sklearn/utils/validation.py:727: FutureWarning: np.matrix usage is deprecated in 1.0 and will raise a TypeError in 1.2. Please convert to a numpy array with np.asarray. For more information see: https://numpy.org/doc/stable/reference/generated/numpy.matrix.html\n",
      "  warnings.warn(\n",
      "/Users/allen/virtualenvs/NLP/lib/python3.9/site-packages/sklearn/utils/validation.py:727: FutureWarning: np.matrix usage is deprecated in 1.0 and will raise a TypeError in 1.2. Please convert to a numpy array with np.asarray. For more information see: https://numpy.org/doc/stable/reference/generated/numpy.matrix.html\n",
      "  warnings.warn(\n",
      "/Users/allen/virtualenvs/NLP/lib/python3.9/site-packages/sklearn/utils/validation.py:727: FutureWarning: np.matrix usage is deprecated in 1.0 and will raise a TypeError in 1.2. Please convert to a numpy array with np.asarray. For more information see: https://numpy.org/doc/stable/reference/generated/numpy.matrix.html\n",
      "  warnings.warn(\n",
      "/Users/allen/virtualenvs/NLP/lib/python3.9/site-packages/sklearn/utils/validation.py:727: FutureWarning: np.matrix usage is deprecated in 1.0 and will raise a TypeError in 1.2. Please convert to a numpy array with np.asarray. For more information see: https://numpy.org/doc/stable/reference/generated/numpy.matrix.html\n",
      "  warnings.warn(\n",
      "/Users/allen/virtualenvs/NLP/lib/python3.9/site-packages/sklearn/utils/validation.py:727: FutureWarning: np.matrix usage is deprecated in 1.0 and will raise a TypeError in 1.2. Please convert to a numpy array with np.asarray. For more information see: https://numpy.org/doc/stable/reference/generated/numpy.matrix.html\n",
      "  warnings.warn(\n",
      "/Users/allen/virtualenvs/NLP/lib/python3.9/site-packages/sklearn/utils/validation.py:727: FutureWarning: np.matrix usage is deprecated in 1.0 and will raise a TypeError in 1.2. Please convert to a numpy array with np.asarray. For more information see: https://numpy.org/doc/stable/reference/generated/numpy.matrix.html\n",
      "  warnings.warn(\n",
      "/Users/allen/virtualenvs/NLP/lib/python3.9/site-packages/sklearn/utils/validation.py:727: FutureWarning: np.matrix usage is deprecated in 1.0 and will raise a TypeError in 1.2. Please convert to a numpy array with np.asarray. For more information see: https://numpy.org/doc/stable/reference/generated/numpy.matrix.html\n",
      "  warnings.warn(\n",
      "/Users/allen/virtualenvs/NLP/lib/python3.9/site-packages/sklearn/utils/validation.py:727: FutureWarning: np.matrix usage is deprecated in 1.0 and will raise a TypeError in 1.2. Please convert to a numpy array with np.asarray. For more information see: https://numpy.org/doc/stable/reference/generated/numpy.matrix.html\n",
      "  warnings.warn(\n",
      "/Users/allen/virtualenvs/NLP/lib/python3.9/site-packages/sklearn/utils/validation.py:727: FutureWarning: np.matrix usage is deprecated in 1.0 and will raise a TypeError in 1.2. Please convert to a numpy array with np.asarray. For more information see: https://numpy.org/doc/stable/reference/generated/numpy.matrix.html\n",
      "  warnings.warn(\n",
      "/Users/allen/virtualenvs/NLP/lib/python3.9/site-packages/sklearn/utils/validation.py:727: FutureWarning: np.matrix usage is deprecated in 1.0 and will raise a TypeError in 1.2. Please convert to a numpy array with np.asarray. For more information see: https://numpy.org/doc/stable/reference/generated/numpy.matrix.html\n",
      "  warnings.warn(\n",
      "/Users/allen/virtualenvs/NLP/lib/python3.9/site-packages/sklearn/utils/validation.py:727: FutureWarning: np.matrix usage is deprecated in 1.0 and will raise a TypeError in 1.2. Please convert to a numpy array with np.asarray. For more information see: https://numpy.org/doc/stable/reference/generated/numpy.matrix.html\n",
      "  warnings.warn(\n",
      "/Users/allen/virtualenvs/NLP/lib/python3.9/site-packages/sklearn/utils/validation.py:727: FutureWarning: np.matrix usage is deprecated in 1.0 and will raise a TypeError in 1.2. Please convert to a numpy array with np.asarray. For more information see: https://numpy.org/doc/stable/reference/generated/numpy.matrix.html\n",
      "  warnings.warn(\n"
     ]
    },
    {
     "data": {
      "text/html": [
       "<div>\n",
       "<style scoped>\n",
       "    .dataframe tbody tr th:only-of-type {\n",
       "        vertical-align: middle;\n",
       "    }\n",
       "\n",
       "    .dataframe tbody tr th {\n",
       "        vertical-align: top;\n",
       "    }\n",
       "\n",
       "    .dataframe thead th {\n",
       "        text-align: right;\n",
       "    }\n",
       "</style>\n",
       "<table border=\"1\" class=\"dataframe\">\n",
       "  <thead>\n",
       "    <tr style=\"text-align: right;\">\n",
       "      <th></th>\n",
       "      <th>Site 1</th>\n",
       "      <th>Site 2</th>\n",
       "      <th>CountVectorizer Cosine Score</th>\n",
       "      <th>TFIDF Cosine Score</th>\n",
       "      <th>Sentence Transformer (sBERT) Cosine Score</th>\n",
       "    </tr>\n",
       "  </thead>\n",
       "  <tbody>\n",
       "    <tr>\n",
       "      <th>0</th>\n",
       "      <td>50 Inch Class H6570G 4K Ultra HD Android Smart...</td>\n",
       "      <td>Hisense H6570G</td>\n",
       "      <td>0.158114</td>\n",
       "      <td>0.163364</td>\n",
       "      <td>0.41582918</td>\n",
       "    </tr>\n",
       "    <tr>\n",
       "      <th>1</th>\n",
       "      <td>QN75Q90TAFXZA crystal 2.5\" Quantum LCD</td>\n",
       "      <td>Samsung crystal UN55TU8000FXZA QLED</td>\n",
       "      <td>0.250000</td>\n",
       "      <td>0.250000</td>\n",
       "      <td>0.583774</td>\n",
       "    </tr>\n",
       "    <tr>\n",
       "      <th>2</th>\n",
       "      <td>EGLF2 50 Ultra Full Motion Articulating TV Wal...</td>\n",
       "      <td>VIZIO EGLF2</td>\n",
       "      <td>0.188982</td>\n",
       "      <td>0.198145</td>\n",
       "      <td>0.3856305</td>\n",
       "    </tr>\n",
       "  </tbody>\n",
       "</table>\n",
       "</div>"
      ],
      "text/plain": [
       "                                              Site 1  \\\n",
       "0  50 Inch Class H6570G 4K Ultra HD Android Smart...   \n",
       "1             QN75Q90TAFXZA crystal 2.5\" Quantum LCD   \n",
       "2  EGLF2 50 Ultra Full Motion Articulating TV Wal...   \n",
       "\n",
       "                                Site 2  CountVectorizer Cosine Score  \\\n",
       "0                       Hisense H6570G                      0.158114   \n",
       "1  Samsung crystal UN55TU8000FXZA QLED                      0.250000   \n",
       "2                          VIZIO EGLF2                      0.188982   \n",
       "\n",
       "   TFIDF Cosine Score Sentence Transformer (sBERT) Cosine Score  \n",
       "0            0.163364                                0.41582918  \n",
       "1            0.250000                                  0.583774  \n",
       "2            0.198145                                 0.3856305  "
      ]
     },
     "execution_count": 151,
     "metadata": {},
     "output_type": "execute_result"
    }
   ],
   "source": [
    "from sentence_transformers import SentenceTransformer, util\n",
    "model = SentenceTransformer('sentence-transformers/all-MiniLM-L6-v2')\n",
    "\n",
    "sentences1 = tfidf_data['Site 1'].tolist()\n",
    "sentences2 = tfidf_data['Site 2'].tolist()\n",
    "\n",
    "tfidf_data['ab'] = tfidf_data.apply(lambda x : x['Site 1'] + ' ' + x['Site 2'], axis=1)\n",
    "\n",
    "clf_tfidf = TfidfVectorizer()\n",
    "clf_cvec = CountVectorizer()\n",
    "clf_tfidf.fit(tfidf_data['ab'])\n",
    "clf_cvec.fit(tfidf_data['ab'])\n",
    "\n",
    "cntvec_a = clf_cvec.transform(tfidf_data['Site 1']).todense()\n",
    "cntvec_b = clf_cvec.transform(tfidf_data['Site 2']).todense()\n",
    "\n",
    "tfidf_a = clf_tfidf.transform(tfidf_data['Site 1']).todense()\n",
    "tfidf_b = clf_tfidf.transform(tfidf_data['Site 2']).todense()\n",
    "\n",
    "#Compute embedding for both lists\n",
    "embeddings1 = model.encode(sentences1, convert_to_tensor=True)\n",
    "embeddings2 = model.encode(sentences2, convert_to_tensor=True)\n",
    "\n",
    "#Compute cosine-similarities\n",
    "cosine_scores = util.cos_sim(embeddings1, embeddings2)\n",
    "\n",
    "output =[]\n",
    "for i in range(len(tfidf_a)):\n",
    "    output.append(\n",
    "        {\n",
    "            'Site 1': sentences1[i],\n",
    "            'Site 2': sentences2[i],\n",
    "            'CountVectorizer Cosine Score': cosine_similarity(cntvec_a[i],cntvec_b[i])[0][0],\n",
    "            'TFIDF Cosine Score': cosine_similarity(tfidf_a[i],tfidf_b[i])[0][0],\n",
    "            'Sentence Transformer (sBERT) Cosine Score': cosine_scores[i][i].numpy()\n",
    "        }\n",
    "    )\n",
    "fin_cosine= pd.DataFrame(output)    \n",
    "fin_cosine.head()"
   ]
  },
  {
   "cell_type": "markdown",
   "metadata": {},
   "source": [
    "***\n",
    "### Jaccard"
   ]
  },
  {
   "cell_type": "code",
   "execution_count": 110,
   "metadata": {},
   "outputs": [],
   "source": [
    "\n",
    "p1_c1 = '50 Inch Class H6570G 4K Ultra HD Android Smart TV with Alexa Compatibility 2.5\" 2020 Model Black Silver White HDR LED'\n",
    "p1_c2 = 'Hisense H6570G'\n",
    "p2_c1 = 'QN75Q90TAFXZA crystal 2.5\" Quantum LCD'\n",
    "p2_c2 = 'Samsung crystal UN55TU8000FXZA QLED'\n",
    "p3_c1 = 'EGLF2 50 Ultra Full Motion Articulating TV Wall Mount Bracket swivel full'\n",
    "p3_c2 = 'VIZIO EGLF2'"
   ]
  },
  {
   "cell_type": "code",
   "execution_count": 111,
   "metadata": {},
   "outputs": [],
   "source": [
    "p1_c1 = set(p1_c1.split())\n",
    "p1_c2 = set(p1_c2.split())\n",
    "p2_c1 = set(p2_c1.split())\n",
    "p2_c2 = set(p2_c2.split())\n",
    "p3_c1 = set(p3_c1.split())\n",
    "p3_c2 = set(p3_c2.split())\n",
    "\n"
   ]
  },
  {
   "cell_type": "code",
   "execution_count": 113,
   "metadata": {},
   "outputs": [],
   "source": [
    "def jac(x:set,y:set):\n",
    "    shared = x.intersection(y)\n",
    "    return len(shared)/len(x.union(y))\n"
   ]
  },
  {
   "cell_type": "code",
   "execution_count": 116,
   "metadata": {},
   "outputs": [
    {
     "data": {
      "text/html": [
       "<div>\n",
       "<style scoped>\n",
       "    .dataframe tbody tr th:only-of-type {\n",
       "        vertical-align: middle;\n",
       "    }\n",
       "\n",
       "    .dataframe tbody tr th {\n",
       "        vertical-align: top;\n",
       "    }\n",
       "\n",
       "    .dataframe thead th {\n",
       "        text-align: right;\n",
       "    }\n",
       "</style>\n",
       "<table border=\"1\" class=\"dataframe\">\n",
       "  <thead>\n",
       "    <tr style=\"text-align: right;\">\n",
       "      <th></th>\n",
       "      <th>Site 1</th>\n",
       "      <th>Site 2</th>\n",
       "      <th>Jaccard Score</th>\n",
       "    </tr>\n",
       "  </thead>\n",
       "  <tbody>\n",
       "    <tr>\n",
       "      <th>0</th>\n",
       "      <td>{Model, TV, Black, Silver, with, 2.5\", 50, And...</td>\n",
       "      <td>{Hisense, H6570G}</td>\n",
       "      <td>0.045455</td>\n",
       "    </tr>\n",
       "    <tr>\n",
       "      <th>1</th>\n",
       "      <td>{Quantum, LCD, QN75Q90TAFXZA, 2.5\", crystal}</td>\n",
       "      <td>{UN55TU8000FXZA, QLED, Samsung, crystal}</td>\n",
       "      <td>0.125000</td>\n",
       "    </tr>\n",
       "    <tr>\n",
       "      <th>2</th>\n",
       "      <td>{TV, 50, swivel, Ultra, Articulating, Full, Wa...</td>\n",
       "      <td>{VIZIO, EGLF2}</td>\n",
       "      <td>0.076923</td>\n",
       "    </tr>\n",
       "  </tbody>\n",
       "</table>\n",
       "</div>"
      ],
      "text/plain": [
       "                                              Site 1  \\\n",
       "0  {Model, TV, Black, Silver, with, 2.5\", 50, And...   \n",
       "1       {Quantum, LCD, QN75Q90TAFXZA, 2.5\", crystal}   \n",
       "2  {TV, 50, swivel, Ultra, Articulating, Full, Wa...   \n",
       "\n",
       "                                     Site 2  Jaccard Score  \n",
       "0                         {Hisense, H6570G}       0.045455  \n",
       "1  {UN55TU8000FXZA, QLED, Samsung, crystal}       0.125000  \n",
       "2                            {VIZIO, EGLF2}       0.076923  "
      ]
     },
     "execution_count": 116,
     "metadata": {},
     "output_type": "execute_result"
    }
   ],
   "source": [
    "jac_data = {\n",
    "            'Site 1': [p1_c1,p2_c1,p3_c1],\n",
    "            'Site 2': [p1_c2,p2_c2,p3_c2],\n",
    "            'Jaccard Score': [jac(p1_c1,p1_c2),jac(p2_c1,p2_c2),jac(p3_c1,p3_c2)]\n",
    "            }\n",
    "\n",
    "pd.DataFrame(jac_data)"
   ]
  },
  {
   "cell_type": "markdown",
   "metadata": {},
   "source": [
    "***\n",
    "### Combine DataFrames\n"
   ]
  },
  {
   "cell_type": "code",
   "execution_count": 160,
   "metadata": {},
   "outputs": [
    {
     "data": {
      "text/html": [
       "<div>\n",
       "<style scoped>\n",
       "    .dataframe tbody tr th:only-of-type {\n",
       "        vertical-align: middle;\n",
       "    }\n",
       "\n",
       "    .dataframe tbody tr th {\n",
       "        vertical-align: top;\n",
       "    }\n",
       "\n",
       "    .dataframe thead th {\n",
       "        text-align: right;\n",
       "    }\n",
       "</style>\n",
       "<table border=\"1\" class=\"dataframe\">\n",
       "  <thead>\n",
       "    <tr style=\"text-align: right;\">\n",
       "      <th></th>\n",
       "      <th>Product Title 1 (Site 1)</th>\n",
       "      <th>Product Title 2 (Site 2)</th>\n",
       "      <th>CountVectorizer Cosine Score</th>\n",
       "      <th>TFIDF Cosine Score</th>\n",
       "      <th>Sentence Transformer (sBERT) Cosine Score</th>\n",
       "      <th>Jaccard Score</th>\n",
       "    </tr>\n",
       "  </thead>\n",
       "  <tbody>\n",
       "    <tr>\n",
       "      <th>0</th>\n",
       "      <td>50 Inch Class H6570G 4K Ultra HD Android Smart...</td>\n",
       "      <td>Hisense H6570G</td>\n",
       "      <td>0.158114</td>\n",
       "      <td>0.163364</td>\n",
       "      <td>0.41582918</td>\n",
       "      <td>0.045455</td>\n",
       "    </tr>\n",
       "    <tr>\n",
       "      <th>1</th>\n",
       "      <td>QN75Q90TAFXZA crystal 2.5\" Quantum LCD</td>\n",
       "      <td>Samsung crystal UN55TU8000FXZA QLED</td>\n",
       "      <td>0.250000</td>\n",
       "      <td>0.250000</td>\n",
       "      <td>0.583774</td>\n",
       "      <td>0.125000</td>\n",
       "    </tr>\n",
       "    <tr>\n",
       "      <th>2</th>\n",
       "      <td>EGLF2 50 Ultra Full Motion Articulating TV Wal...</td>\n",
       "      <td>VIZIO EGLF2</td>\n",
       "      <td>0.188982</td>\n",
       "      <td>0.198145</td>\n",
       "      <td>0.3856305</td>\n",
       "      <td>0.076923</td>\n",
       "    </tr>\n",
       "  </tbody>\n",
       "</table>\n",
       "</div>"
      ],
      "text/plain": [
       "                            Product Title 1 (Site 1)  \\\n",
       "0  50 Inch Class H6570G 4K Ultra HD Android Smart...   \n",
       "1             QN75Q90TAFXZA crystal 2.5\" Quantum LCD   \n",
       "2  EGLF2 50 Ultra Full Motion Articulating TV Wal...   \n",
       "\n",
       "              Product Title 2 (Site 2)  CountVectorizer Cosine Score  \\\n",
       "0                       Hisense H6570G                      0.158114   \n",
       "1  Samsung crystal UN55TU8000FXZA QLED                      0.250000   \n",
       "2                          VIZIO EGLF2                      0.188982   \n",
       "\n",
       "   TFIDF Cosine Score Sentence Transformer (sBERT) Cosine Score  Jaccard Score  \n",
       "0            0.163364                                0.41582918       0.045455  \n",
       "1            0.250000                                  0.583774       0.125000  \n",
       "2            0.198145                                 0.3856305       0.076923  "
      ]
     },
     "execution_count": 160,
     "metadata": {},
     "output_type": "execute_result"
    }
   ],
   "source": [
    "final_data = {\n",
    "    'Product Title 1 (Site 1)': fin_cosine['Site 1'],\n",
    "    'Product Title 2 (Site 2)': fin_cosine['Site 2'],\n",
    "    'CountVectorizer Cosine Score': fin_cosine['CountVectorizer Cosine Score'],\n",
    "    'TFIDF Cosine Score': fin_cosine['TFIDF Cosine Score'],\n",
    "    'Sentence Transformer (sBERT) Cosine Score': fin_cosine['Sentence Transformer (sBERT) Cosine Score'],\n",
    "    'Jaccard Score': jac_data['Jaccard Score']\n",
    "}\n",
    "\n",
    "final_data = pd.DataFrame(final_data)\n",
    "final_data.head()"
   ]
  }
 ],
 "metadata": {
  "kernelspec": {
   "display_name": "Python 3.9.13 ('NLP')",
   "language": "python",
   "name": "python3"
  },
  "language_info": {
   "codemirror_mode": {
    "name": "ipython",
    "version": 3
   },
   "file_extension": ".py",
   "mimetype": "text/x-python",
   "name": "python",
   "nbconvert_exporter": "python",
   "pygments_lexer": "ipython3",
   "version": "3.9.13"
  },
  "orig_nbformat": 4,
  "vscode": {
   "interpreter": {
    "hash": "76cbc1d22d2ec03295cd5a8ae680c721667c569897428aaeeb69f9305902a57b"
   }
  }
 },
 "nbformat": 4,
 "nbformat_minor": 2
}
